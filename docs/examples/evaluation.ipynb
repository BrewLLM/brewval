{
 "cells": [
  {
   "cell_type": "code",
   "execution_count": 1,
   "id": "a73a3954",
   "metadata": {},
   "outputs": [],
   "source": [
    "from typing import Dict, List\n",
    "from brewval.model import Prompt, Label\n",
    "from brewval.eval import Evaluator\n",
    "\n",
    "from langchain.llms import OpenAI, BaseLLM"
   ]
  },
  {
   "cell_type": "code",
   "execution_count": 2,
   "id": "3d3677a0",
   "metadata": {},
   "outputs": [],
   "source": [
    "prompt = Prompt(\n",
    "\"\"\"There are 6 basic emotions: hapiness, sadness, fear, disgust, anger, surprise.\n",
    "Emotion can be detected from it's description.\n",
    "Description: Feelings of disappointment, grief, hopelessness, disinterest, and dampened mood.\n",
    "Emotion: sadness\n",
    "Description: muscles become tense, your heart rate and respiration increase, and your mind becomes more alert, priming your body to either run from the danger or stand and fight\n",
    "Emotion: fear\n",
    "Description: {description}\n",
    "Emotion: {result}\"\"\")\n",
    "\n",
    "labels = [\n",
    "    Label('fear', {'description': 'heart rate and respiration increase'}),\n",
    "    Label('surprise', {'description': 'quite brief and is characterized by a physiological startle response following something unexpected'}),\n",
    "    Label('anger', {'description': 'Characterized by feelings of hostility, agitation, frustration, and antagonism towards others.'})\n",
    "]"
   ]
  },
  {
   "cell_type": "code",
   "execution_count": 3,
   "id": "be2477e5",
   "metadata": {},
   "outputs": [],
   "source": [
    "models: Dict[str, BaseLLM] = {\n",
    "    'OpenAI[davinci-003]': OpenAI(model_name='text-davinci-003'),\n",
    "    'OpenAI[davinci-002]': OpenAI(model_name='text-davinci-002'),\n",
    "    'OpenAI[ada-001]': OpenAI(model_name='text-ada-001')\n",
    "}"
   ]
  },
  {
   "cell_type": "code",
   "execution_count": 4,
   "id": "497aa41a",
   "metadata": {},
   "outputs": [
    {
     "name": "stdout",
     "output_type": "stream",
     "text": [
      "Model OpenAI[davinci-003] accuracy: 100.0%\n",
      "Model OpenAI[davinci-002] accuracy: 33.33333333333333%\n",
      "Model OpenAI[ada-001] accuracy: 0.0%\n"
     ]
    }
   ],
   "source": [
    "evaluator = Evaluator(models)\n",
    "\n",
    "results = evaluator.evaluate(prompt, labels)\n",
    "for result in results:\n",
    "    print(f'Model {result.model_name} accuracy: {result.accuracy * 100}%')"
   ]
  }
 ],
 "metadata": {
  "kernelspec": {
   "display_name": "Python 3 (ipykernel)",
   "language": "python",
   "name": "python3"
  },
  "language_info": {
   "codemirror_mode": {
    "name": "ipython",
    "version": 3
   },
   "file_extension": ".py",
   "mimetype": "text/x-python",
   "name": "python",
   "nbconvert_exporter": "python",
   "pygments_lexer": "ipython3",
   "version": "3.10.7"
  }
 },
 "nbformat": 4,
 "nbformat_minor": 5
}
